{
 "cells": [
  {
   "cell_type": "code",
   "execution_count": 196,
   "id": "c40935db-c6cb-4cf9-a33f-fb34226cc725",
   "metadata": {},
   "outputs": [
    {
     "name": "stdout",
     "output_type": "stream",
     "text": [
      "Hello \"Sanskar\" from 'HPE'' \n",
      "\n"
     ]
    }
   ],
   "source": [
    "print('''Hello \"Sanskar\" from 'HPE'' ''')"
   ]
  },
  {
   "cell_type": "raw",
   "id": "ae1c184e-0833-4727-9bae-cc27c93e42bb",
   "metadata": {},
   "source": [
    "a=input()"
   ]
  },
  {
   "cell_type": "code",
   "execution_count": 193,
   "id": "dce0a5e4-6003-4408-a4e7-2db52feca878",
   "metadata": {},
   "outputs": [
    {
     "name": "stdout",
     "output_type": "stream",
     "text": [
      "Hello \"Sanskar\" from 'HPE'\n"
     ]
    }
   ],
   "source": [
    "print(a)"
   ]
  },
  {
   "cell_type": "code",
   "execution_count": 198,
   "id": "699df7b1-67de-438a-a276-88d873b423c6",
   "metadata": {},
   "outputs": [
    {
     "name": "stdout",
     "output_type": "stream",
     "text": [
      "5 World\n"
     ]
    }
   ],
   "source": [
    "a =5\n",
    "print('{} {}'.format(a, 'World'))\n"
   ]
  },
  {
   "cell_type": "code",
   "execution_count": 203,
   "id": "a17cf007-873f-4257-9c3a-52ccaeecf28c",
   "metadata": {},
   "outputs": [
    {
     "name": "stdout",
     "output_type": "stream",
     "text": [
      "Total Player: 24.120000, batsman: 12\n"
     ]
    }
   ],
   "source": [
    "print(\"Total Player: %f, batsman: %d\" %(24.12,12))"
   ]
  },
  {
   "cell_type": "code",
   "execution_count": 204,
   "id": "3df58a31-ab7f-441d-969f-e10cdacae119",
   "metadata": {},
   "outputs": [
    {
     "name": "stdout",
     "output_type": "stream",
     "text": [
      "Hello World\n"
     ]
    }
   ],
   "source": [
    "print(f'Hello World')"
   ]
  },
  {
   "cell_type": "code",
   "execution_count": 217,
   "id": "f47b0708-8a4b-4bdf-a86d-af10c8bb0694",
   "metadata": {},
   "outputs": [
    {
     "name": "stdin",
     "output_type": "stream",
     "text": [
      "Enter a number: True\n"
     ]
    },
    {
     "name": "stdout",
     "output_type": "stream",
     "text": [
      "True\n"
     ]
    }
   ],
   "source": [
    "str = bool(input(\"Enter a number:\"))\n",
    "print(str)"
   ]
  },
  {
   "cell_type": "code",
   "execution_count": 218,
   "id": "44b06cfb-159d-4f02-af78-8022cc2dd220",
   "metadata": {},
   "outputs": [
    {
     "data": {
      "text/plain": [
       "bool"
      ]
     },
     "execution_count": 218,
     "metadata": {},
     "output_type": "execute_result"
    }
   ],
   "source": [
    "type(str)"
   ]
  },
  {
   "cell_type": "code",
   "execution_count": 216,
   "id": "f6f58f49-7f48-4e0d-80f5-ee4b421678c8",
   "metadata": {},
   "outputs": [
    {
     "name": "stdout",
     "output_type": "stream",
     "text": [
      "True\n",
      "<class 'bool'>\n"
     ]
    }
   ],
   "source": [
    "print(True)\n",
    "print(type(True))"
   ]
  },
  {
   "cell_type": "code",
   "execution_count": 222,
   "id": "4a2bb8c4-628b-4fac-8fbf-4349df2a48ba",
   "metadata": {},
   "outputs": [
    {
     "name": "stdout",
     "output_type": "stream",
     "text": [
      "25\n"
     ]
    }
   ],
   "source": [
    "a=5\n",
    "b=2\n",
    "\n",
    "print(a**b)"
   ]
  },
  {
   "cell_type": "code",
   "execution_count": 223,
   "id": "2d8c145a-1c51-4518-9e08-4bbf0860796a",
   "metadata": {},
   "outputs": [
    {
     "data": {
      "text/plain": [
       "False"
      ]
     },
     "execution_count": 223,
     "metadata": {},
     "output_type": "execute_result"
    }
   ],
   "source": [
    "a == b"
   ]
  },
  {
   "cell_type": "markdown",
   "id": "2390d799-03bb-40c4-8347-29ced686707c",
   "metadata": {},
   "source": [
    "## and, or, not"
   ]
  },
  {
   "cell_type": "code",
   "execution_count": 226,
   "id": "4232a41d-ac4b-487d-b3a4-c3b66fd786aa",
   "metadata": {},
   "outputs": [
    {
     "data": {
      "text/plain": [
       "True"
      ]
     },
     "execution_count": 226,
     "metadata": {},
     "output_type": "execute_result"
    }
   ],
   "source": [
    "not False and True or False"
   ]
  },
  {
   "cell_type": "code",
   "execution_count": 228,
   "id": "921c564e-12db-4858-8ca5-091ccf07f110",
   "metadata": {},
   "outputs": [
    {
     "data": {
      "text/plain": [
       "True"
      ]
     },
     "execution_count": 228,
     "metadata": {},
     "output_type": "execute_result"
    }
   ],
   "source": [
    "not False or True or False and True"
   ]
  },
  {
   "cell_type": "code",
   "execution_count": 229,
   "id": "ef69615f-ac54-43bd-b1a9-0f17666d6451",
   "metadata": {},
   "outputs": [],
   "source": [
    "a = 10\n",
    "b = 10"
   ]
  },
  {
   "cell_type": "code",
   "execution_count": null,
   "id": "9f73d4c1-3e1e-43ba-ba68-85bb495270eb",
   "metadata": {},
   "outputs": [],
   "source": []
  },
  {
   "cell_type": "code",
   "execution_count": 233,
   "id": "0f5901d6-83c1-4203-ae62-4b4f323be274",
   "metadata": {},
   "outputs": [
    {
     "data": {
      "text/plain": [
       "False"
      ]
     },
     "execution_count": 233,
     "metadata": {},
     "output_type": "execute_result"
    }
   ],
   "source": [
    "a != b"
   ]
  },
  {
   "cell_type": "code",
   "execution_count": 232,
   "id": "0048d5db-b890-42f1-80b7-83f047c87c02",
   "metadata": {},
   "outputs": [
    {
     "data": {
      "text/plain": [
       "False"
      ]
     },
     "execution_count": 232,
     "metadata": {},
     "output_type": "execute_result"
    }
   ],
   "source": [
    "a is not b"
   ]
  },
  {
   "cell_type": "code",
   "execution_count": 235,
   "id": "3151c564-99cc-4c19-8c67-14d22dc117f3",
   "metadata": {},
   "outputs": [],
   "source": [
    "# Membership operators\n",
    "\n",
    "a = [1,2,3,4]\n",
    "b = (1,2,3,4)"
   ]
  },
  {
   "cell_type": "code",
   "execution_count": 246,
   "id": "82d1ed16-d266-49c4-848c-06c6e0f1d172",
   "metadata": {},
   "outputs": [],
   "source": [
    "a.append('a')"
   ]
  },
  {
   "cell_type": "code",
   "execution_count": 256,
   "id": "01b81664-3f6b-4ad2-ad7c-1aefb3a513b8",
   "metadata": {},
   "outputs": [
    {
     "data": {
      "text/plain": [
       "['a', 2, 3]"
      ]
     },
     "execution_count": 256,
     "metadata": {},
     "output_type": "execute_result"
    }
   ],
   "source": [
    "a[:3]"
   ]
  },
  {
   "cell_type": "code",
   "execution_count": 241,
   "id": "0b7cf19a-c827-46c6-8fe8-535893441e14",
   "metadata": {},
   "outputs": [
    {
     "data": {
      "text/plain": [
       "False"
      ]
     },
     "execution_count": 241,
     "metadata": {},
     "output_type": "execute_result"
    }
   ],
   "source": [
    "5 in b"
   ]
  },
  {
   "cell_type": "code",
   "execution_count": 242,
   "id": "2f5b8b43-c2a9-4d00-980a-a32dc1e5faef",
   "metadata": {},
   "outputs": [
    {
     "data": {
      "text/plain": [
       "True"
      ]
     },
     "execution_count": 242,
     "metadata": {},
     "output_type": "execute_result"
    }
   ],
   "source": [
    "5 not in b"
   ]
  },
  {
   "cell_type": "code",
   "execution_count": 252,
   "id": "5660c9ec-d15d-431c-a469-d354264d48e1",
   "metadata": {},
   "outputs": [
    {
     "name": "stdout",
     "output_type": "stream",
     "text": [
      "a\n",
      "97\n",
      "0b1100001\n",
      "0o141\n",
      "0x61\n"
     ]
    }
   ],
   "source": [
    "x = 97\n",
    "print(chr(x))\n",
    "print(ord(chr(x)))\n",
    "print(bin(x))\n",
    "print(oct(x))\n",
    "print(hex(x))"
   ]
  },
  {
   "cell_type": "code",
   "execution_count": 257,
   "id": "06864d29-34c2-4699-9af1-54a68bff4791",
   "metadata": {},
   "outputs": [
    {
     "name": "stdout",
     "output_type": "stream",
     "text": [
      "2\n",
      "4\n",
      "6\n",
      "8\n"
     ]
    }
   ],
   "source": [
    "for i in range(2, 10, 2):\n",
    "    print(i)"
   ]
  },
  {
   "cell_type": "code",
   "execution_count": 265,
   "id": "8709a8d2-033e-41f5-876a-7dc6464f2c5e",
   "metadata": {},
   "outputs": [
    {
     "name": "stdout",
     "output_type": "stream",
     "text": [
      "3.0308436140742566e+43\n",
      "1.5849625007211563\n",
      "10000000000.0\n",
      "10.0\n",
      "2.0\n"
     ]
    }
   ],
   "source": [
    "import math as m\n",
    "\n",
    "print(m.exp(100.12))\n",
    "print(m.log(3,2))\n",
    "print(m.pow(10,10))\n",
    "print(m.sqrt(100))\n",
    "print(m.pow(8,(1/3)))"
   ]
  },
  {
   "cell_type": "markdown",
   "id": "64d9eacf-b3c8-40e8-a2da-1df2144c959d",
   "metadata": {},
   "source": [
    "strings, lists, tuples, dictionanry, sets"
   ]
  },
  {
   "cell_type": "code",
   "execution_count": 290,
   "id": "53284087-d627-4e7d-970b-fb28f95925f2",
   "metadata": {},
   "outputs": [],
   "source": [
    "var1 = \"python Programming\""
   ]
  },
  {
   "cell_type": "code",
   "execution_count": 272,
   "id": "4f7e204a-9705-4b59-a204-2b2483fe4018",
   "metadata": {},
   "outputs": [],
   "source": [
    "var2 = \"!!!!\""
   ]
  },
  {
   "cell_type": "code",
   "execution_count": 281,
   "id": "cb746c12-90b0-4682-9bfd-6b2bd79d31e2",
   "metadata": {},
   "outputs": [
    {
     "name": "stdout",
     "output_type": "stream",
     "text": [
      "gnimmargorP nohtyP\n"
     ]
    }
   ],
   "source": [
    "print(var1[::-1])"
   ]
  },
  {
   "cell_type": "code",
   "execution_count": 284,
   "id": "ffa1414a-391a-44f5-92cf-3cfeb9b791b3",
   "metadata": {},
   "outputs": [
    {
     "name": "stdout",
     "output_type": "stream",
     "text": [
      "Python ProgrammingPython ProgrammingPython ProgrammingPython Programming\n"
     ]
    }
   ],
   "source": [
    "print(var1*4)"
   ]
  },
  {
   "cell_type": "code",
   "execution_count": 291,
   "id": "7ee210c3-d546-4cba-b930-7b0b1de947b9",
   "metadata": {},
   "outputs": [
    {
     "data": {
      "text/plain": [
       "'Python programming'"
      ]
     },
     "execution_count": 291,
     "metadata": {},
     "output_type": "execute_result"
    }
   ],
   "source": [
    "var1.capitalize()"
   ]
  },
  {
   "cell_type": "code",
   "execution_count": 292,
   "id": "8fe4ba02-dfc7-4574-ba75-eb4ab36cd7fb",
   "metadata": {},
   "outputs": [
    {
     "data": {
      "text/plain": [
       "True"
      ]
     },
     "execution_count": 292,
     "metadata": {},
     "output_type": "execute_result"
    }
   ],
   "source": [
    "var1.startswith(\"py\")"
   ]
  },
  {
   "cell_type": "code",
   "execution_count": 293,
   "id": "2b16fac1-754a-481e-9a71-1f53a23faa90",
   "metadata": {},
   "outputs": [
    {
     "data": {
      "text/plain": [
       "'PYTHON PROGRAMMING'"
      ]
     },
     "execution_count": 293,
     "metadata": {},
     "output_type": "execute_result"
    }
   ],
   "source": [
    "var1.upper()"
   ]
  },
  {
   "cell_type": "code",
   "execution_count": 294,
   "id": "bf2862a6-9b7d-4277-a455-a09758a83a79",
   "metadata": {},
   "outputs": [
    {
     "data": {
      "text/plain": [
       "True"
      ]
     },
     "execution_count": 294,
     "metadata": {},
     "output_type": "execute_result"
    }
   ],
   "source": [
    "\"123\".isnumeric()"
   ]
  },
  {
   "cell_type": "code",
   "execution_count": 299,
   "id": "fa182563-ca91-4ab5-bac0-1238a7bc58e6",
   "metadata": {},
   "outputs": [],
   "source": [
    "list1=['1',97]"
   ]
  },
  {
   "cell_type": "code",
   "execution_count": 300,
   "id": "1308a401-3c50-4c71-9050-4e99bb17176e",
   "metadata": {},
   "outputs": [
    {
     "data": {
      "text/plain": [
       "list"
      ]
     },
     "execution_count": 300,
     "metadata": {},
     "output_type": "execute_result"
    }
   ],
   "source": [
    "type(list1)"
   ]
  }
 ],
 "metadata": {
  "kernelspec": {
   "display_name": "Python 3 (ipykernel)",
   "language": "python",
   "name": "python3"
  },
  "language_info": {
   "codemirror_mode": {
    "name": "ipython",
    "version": 3
   },
   "file_extension": ".py",
   "mimetype": "text/x-python",
   "name": "python",
   "nbconvert_exporter": "python",
   "pygments_lexer": "ipython3",
   "version": "3.8.0"
  }
 },
 "nbformat": 4,
 "nbformat_minor": 5
}
